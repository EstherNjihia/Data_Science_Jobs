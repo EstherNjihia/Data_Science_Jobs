{
 "cells": [
  {
   "cell_type": "code",
   "execution_count": 1,
   "metadata": {},
   "outputs": [],
   "source": [
    "import pandas as pd\n",
    "import csv\n",
    "import matplotlib.pyplot as plt\n",
    "import seaborn as sns"
   ]
  },
  {
   "cell_type": "code",
   "execution_count": 2,
   "metadata": {},
   "outputs": [
    {
     "data": {
      "text/html": [
       "<div>\n",
       "<style scoped>\n",
       "    .dataframe tbody tr th:only-of-type {\n",
       "        vertical-align: middle;\n",
       "    }\n",
       "\n",
       "    .dataframe tbody tr th {\n",
       "        vertical-align: top;\n",
       "    }\n",
       "\n",
       "    .dataframe thead th {\n",
       "        text-align: right;\n",
       "    }\n",
       "</style>\n",
       "<table border=\"1\" class=\"dataframe\">\n",
       "  <thead>\n",
       "    <tr style=\"text-align: right;\">\n",
       "      <th></th>\n",
       "      <th>Unnamed: 0</th>\n",
       "      <th>Title</th>\n",
       "      <th>Description</th>\n",
       "      <th>Price</th>\n",
       "      <th>Skills</th>\n",
       "    </tr>\n",
       "  </thead>\n",
       "  <tbody>\n",
       "    <tr>\n",
       "      <th>0</th>\n",
       "      <td>0</td>\n",
       "      <td>LinkedIn Focused Data Extraction</td>\n",
       "      <td>Need a decently sized team of folks to help me...</td>\n",
       "      <td>£96\\n                                (Avg Bid)</td>\n",
       "      <td>Web Search</td>\n",
       "    </tr>\n",
       "    <tr>\n",
       "      <th>1</th>\n",
       "      <td>1</td>\n",
       "      <td>QuickBooks Data Entry and Reconciliation Expert</td>\n",
       "      <td>I am looking for a QuickBooks Desktop 2023 spe...</td>\n",
       "      <td>£18 / hr\\n                                (Avg...</td>\n",
       "      <td>MYOB</td>\n",
       "    </tr>\n",
       "    <tr>\n",
       "      <th>2</th>\n",
       "      <td>2</td>\n",
       "      <td>data automation in excel</td>\n",
       "      <td>More details:\\n\\nWhat specific tasks do you wa...</td>\n",
       "      <td>£472\\n                                (Avg Bid)</td>\n",
       "      <td>Visual Basic for Apps</td>\n",
       "    </tr>\n",
       "    <tr>\n",
       "      <th>3</th>\n",
       "      <td>3</td>\n",
       "      <td>Research the number of existing and under-cons...</td>\n",
       "      <td>I made this instructional video explaining how...</td>\n",
       "      <td>£9 / hr\\n                                (Avg ...</td>\n",
       "      <td>Web Search</td>\n",
       "    </tr>\n",
       "    <tr>\n",
       "      <th>4</th>\n",
       "      <td>4</td>\n",
       "      <td>Comprehensive Data Entry &amp; Text Management</td>\n",
       "      <td>...provide data entry, copy pasting, excel wor...</td>\n",
       "      <td>£290\\n                                (Avg Bid)</td>\n",
       "      <td>Word</td>\n",
       "    </tr>\n",
       "  </tbody>\n",
       "</table>\n",
       "</div>"
      ],
      "text/plain": [
       "   Unnamed: 0                                              Title  \\\n",
       "0           0                   LinkedIn Focused Data Extraction   \n",
       "1           1    QuickBooks Data Entry and Reconciliation Expert   \n",
       "2           2                           data automation in excel   \n",
       "3           3  Research the number of existing and under-cons...   \n",
       "4           4         Comprehensive Data Entry & Text Management   \n",
       "\n",
       "                                         Description  \\\n",
       "0  Need a decently sized team of folks to help me...   \n",
       "1  I am looking for a QuickBooks Desktop 2023 spe...   \n",
       "2  More details:\\n\\nWhat specific tasks do you wa...   \n",
       "3  I made this instructional video explaining how...   \n",
       "4  ...provide data entry, copy pasting, excel wor...   \n",
       "\n",
       "                                               Price                 Skills  \n",
       "0     £96\\n                                (Avg Bid)             Web Search  \n",
       "1  £18 / hr\\n                                (Avg...                   MYOB  \n",
       "2    £472\\n                                (Avg Bid)  Visual Basic for Apps  \n",
       "3  £9 / hr\\n                                (Avg ...             Web Search  \n",
       "4    £290\\n                                (Avg Bid)                   Word  "
      ]
     },
     "execution_count": 2,
     "metadata": {},
     "output_type": "execute_result"
    }
   ],
   "source": [
    "df = pd.read_csv(\"DataScience_jobs.csv\")\n",
    "df.head(5)"
   ]
  },
  {
   "cell_type": "code",
   "execution_count": null,
   "metadata": {},
   "outputs": [],
   "source": []
  },
  {
   "cell_type": "code",
   "execution_count": 3,
   "metadata": {},
   "outputs": [],
   "source": [
    "df= df.drop(columns='Unnamed: 0', axis=1)"
   ]
  },
  {
   "cell_type": "code",
   "execution_count": 4,
   "metadata": {},
   "outputs": [
    {
     "data": {
      "text/html": [
       "<div>\n",
       "<style scoped>\n",
       "    .dataframe tbody tr th:only-of-type {\n",
       "        vertical-align: middle;\n",
       "    }\n",
       "\n",
       "    .dataframe tbody tr th {\n",
       "        vertical-align: top;\n",
       "    }\n",
       "\n",
       "    .dataframe thead th {\n",
       "        text-align: right;\n",
       "    }\n",
       "</style>\n",
       "<table border=\"1\" class=\"dataframe\">\n",
       "  <thead>\n",
       "    <tr style=\"text-align: right;\">\n",
       "      <th></th>\n",
       "      <th>Title</th>\n",
       "      <th>Description</th>\n",
       "      <th>Price</th>\n",
       "      <th>Skills</th>\n",
       "    </tr>\n",
       "  </thead>\n",
       "  <tbody>\n",
       "    <tr>\n",
       "      <th>0</th>\n",
       "      <td>LinkedIn Focused Data Extraction</td>\n",
       "      <td>Need a decently sized team of folks to help me...</td>\n",
       "      <td>£96\\n                                (Avg Bid)</td>\n",
       "      <td>Web Search</td>\n",
       "    </tr>\n",
       "    <tr>\n",
       "      <th>1</th>\n",
       "      <td>QuickBooks Data Entry and Reconciliation Expert</td>\n",
       "      <td>I am looking for a QuickBooks Desktop 2023 spe...</td>\n",
       "      <td>£18 / hr\\n                                (Avg...</td>\n",
       "      <td>MYOB</td>\n",
       "    </tr>\n",
       "    <tr>\n",
       "      <th>2</th>\n",
       "      <td>data automation in excel</td>\n",
       "      <td>More details:\\n\\nWhat specific tasks do you wa...</td>\n",
       "      <td>£472\\n                                (Avg Bid)</td>\n",
       "      <td>Visual Basic for Apps</td>\n",
       "    </tr>\n",
       "    <tr>\n",
       "      <th>3</th>\n",
       "      <td>Research the number of existing and under-cons...</td>\n",
       "      <td>I made this instructional video explaining how...</td>\n",
       "      <td>£9 / hr\\n                                (Avg ...</td>\n",
       "      <td>Web Search</td>\n",
       "    </tr>\n",
       "    <tr>\n",
       "      <th>4</th>\n",
       "      <td>Comprehensive Data Entry &amp; Text Management</td>\n",
       "      <td>...provide data entry, copy pasting, excel wor...</td>\n",
       "      <td>£290\\n                                (Avg Bid)</td>\n",
       "      <td>Word</td>\n",
       "    </tr>\n",
       "  </tbody>\n",
       "</table>\n",
       "</div>"
      ],
      "text/plain": [
       "                                               Title  \\\n",
       "0                   LinkedIn Focused Data Extraction   \n",
       "1    QuickBooks Data Entry and Reconciliation Expert   \n",
       "2                           data automation in excel   \n",
       "3  Research the number of existing and under-cons...   \n",
       "4         Comprehensive Data Entry & Text Management   \n",
       "\n",
       "                                         Description  \\\n",
       "0  Need a decently sized team of folks to help me...   \n",
       "1  I am looking for a QuickBooks Desktop 2023 spe...   \n",
       "2  More details:\\n\\nWhat specific tasks do you wa...   \n",
       "3  I made this instructional video explaining how...   \n",
       "4  ...provide data entry, copy pasting, excel wor...   \n",
       "\n",
       "                                               Price                 Skills  \n",
       "0     £96\\n                                (Avg Bid)             Web Search  \n",
       "1  £18 / hr\\n                                (Avg...                   MYOB  \n",
       "2    £472\\n                                (Avg Bid)  Visual Basic for Apps  \n",
       "3  £9 / hr\\n                                (Avg ...             Web Search  \n",
       "4    £290\\n                                (Avg Bid)                   Word  "
      ]
     },
     "execution_count": 4,
     "metadata": {},
     "output_type": "execute_result"
    }
   ],
   "source": [
    "df.head(5)"
   ]
  },
  {
   "cell_type": "code",
   "execution_count": 5,
   "metadata": {},
   "outputs": [
    {
     "name": "stdout",
     "output_type": "stream",
     "text": [
      "<class 'pandas.core.frame.DataFrame'>\n",
      "RangeIndex: 400 entries, 0 to 399\n",
      "Data columns (total 4 columns):\n",
      " #   Column       Non-Null Count  Dtype \n",
      "---  ------       --------------  ----- \n",
      " 0   Title        400 non-null    object\n",
      " 1   Description  400 non-null    object\n",
      " 2   Price        400 non-null    object\n",
      " 3   Skills       400 non-null    object\n",
      "dtypes: object(4)\n",
      "memory usage: 12.6+ KB\n"
     ]
    }
   ],
   "source": [
    "df.info()"
   ]
  },
  {
   "cell_type": "code",
   "execution_count": null,
   "metadata": {},
   "outputs": [],
   "source": []
  }
 ],
 "metadata": {
  "kernelspec": {
   "display_name": "Python 3",
   "language": "python",
   "name": "python3"
  },
  "language_info": {
   "codemirror_mode": {
    "name": "ipython",
    "version": 3
   },
   "file_extension": ".py",
   "mimetype": "text/x-python",
   "name": "python",
   "nbconvert_exporter": "python",
   "pygments_lexer": "ipython3",
   "version": "3.12.2"
  }
 },
 "nbformat": 4,
 "nbformat_minor": 2
}
